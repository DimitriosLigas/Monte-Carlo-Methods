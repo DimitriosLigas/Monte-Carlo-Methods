{
 "cells": [
  {
   "cell_type": "markdown",
   "id": "dc818fed",
   "metadata": {},
   "source": [
    "# Normal Generating Algorithms"
   ]
  },
  {
   "cell_type": "markdown",
   "id": "bd216ccf",
   "metadata": {},
   "source": [
    "In this piece we compare the computational efficiency of four normal random variables generating algorithms:\n",
    "\n",
    "1. Box-Mueller Method\n",
    "2. Bray-Marsaglia Polar Method\n",
    "3. Beasley-Springer-Moro Inverse CDF Approximation\n",
    "4. Acceptance-Rejection Method\n",
    "\n",
    "For each algorithm we generate 1,000,000 standard normal random variables without using vectorization, ad we compare their computational time."
   ]
  },
  {
   "cell_type": "code",
   "execution_count": 2,
   "id": "41c186a2",
   "metadata": {},
   "outputs": [],
   "source": [
    "import numpy as np\n",
    "import pandas as pd\n",
    "from math import *\n",
    "import matplotlib.pyplot as plt\n",
    "import time\n",
    "\n",
    "#Set the seed\n",
    "np.random.seed(123)\n",
    "#Set the number of r.v to generate\n",
    "N=1000000\n",
    "#Dict to hold the times:\n",
    "comp_efficiency=dict()"
   ]
  },
  {
   "cell_type": "markdown",
   "id": "20b8b7d0",
   "metadata": {},
   "source": [
    "# Box-Mueller Method:"
   ]
  },
  {
   "cell_type": "markdown",
   "id": "bb71c68a",
   "metadata": {},
   "source": [
    "The Box-Mueller algorithm generates a sample from the bivariate standard normal, each component of which is thus a univariate standard normal. The method is based on the following two properties of the bivariate normal distribution:\n",
    "\n",
    "If $Z\\sim N(0,I)$ then:\n",
    "\n",
    "1. $R^2=Z_1^2+Z_2^2 \\sim \\chi_{(2)}=\\Gamma(1,2)=exp(2)$, i.e. $P(Z\\leq x)=1-e^{-x/2}$\n",
    "\n",
    "\n",
    "2. Given $R^2$, the point $(Z_1,Z_2)$ is uniformly distributed on the circle of radius $R$ centered at the origin $O\\;(0,0)$.\n",
    "\n",
    "Thus, to generate $(Z_1,Z_2)$ we may first generate $R^2$ and then sample a point uniformly from the circle of radius $R$. \n",
    "\n",
    "To sample from the exponential distribution, we can use the inverse CDF transformation method and let $R^2=-2ln(U_1)\\sim exp(2)$, with $U_1\\sim Uniform(0,1)$.\n",
    "\n",
    "To generate a random point on a circle, we can generate a random angle uniformly distributed between $0\\;\\text{and}\\;2\\pi\\;\\text{as}\\;\\Theta\\sim Uniform(0,2\\pi)$, and then map the angle to a point on the circle. We can easily generate $\\Theta$ be letting $\\Theta=2\\pi U_2$, with $U_2\\sim Uniform(0,1)$.\n",
    "\n",
    "Then, from the polar coordinates transformation, the corresponding point on the circle $O\\;(R,\\Theta)$ will be: $(Z_1,Z_2)=(R\\cos{\\Theta},R\\sin{\\Theta})$.\n",
    "\n",
    "To sum up, the Box-Mueller Algorithm to generate a sample from the Bivariate Standard Normal is given by the following steps:\n",
    "\n",
    "1. Generate $U_1,U_2 \\sim Uniform(0,1)$\n",
    "\n",
    "2. Let $R^2=-2ln(U_1)\\sim exp(2)$\n",
    "\n",
    "3. Let $\\Theta=2\\pi U_2\\sim Uniform(0,2\\pi)$\n",
    "\n",
    "4. $(Z_1,Z_2)=(R\\cos{\\Theta},R\\sin{\\Theta})$\n",
    "\n",
    "Then, $Z=(Z_1,Z_2)\\sim N(0,I)$.\n"
   ]
  },
  {
   "cell_type": "code",
   "execution_count": 3,
   "id": "6351e383",
   "metadata": {},
   "outputs": [
    {
     "name": "stdout",
     "output_type": "stream",
     "text": [
      "Computational Time for Box-Mueller Method: 6.125651597976685\n"
     ]
    }
   ],
   "source": [
    "# tick\n",
    "t0 = time.time()\n",
    "\n",
    "# Sample 500,000 pairs of Bivariate Standard Normals without vectorization:\n",
    "for i in range(int(N / 2)):\n",
    "    U1 = np.random.uniform(0, 1, 1)\n",
    "    U2 = np.random.uniform(0, 1, 1)\n",
    "    c = sqrt(-2 * (np.log(U1)))\n",
    "    Z1 = c * cos((2 * pi) * U2)\n",
    "    Z2 = c * sin((2 * pi) * U2)\n",
    "\n",
    "# tock\n",
    "t1 = time.time()\n",
    "box_mueller = t1 - t0\n",
    "comp_efficiency.update({\"Box-Mueller\": box_mueller})\n",
    "print(\"Computational Time for Box-Mueller Method:\", box_mueller)\n"
   ]
  },
  {
   "cell_type": "markdown",
   "id": "731346ed",
   "metadata": {},
   "source": [
    "# Acceptance-Rejection Method:"
   ]
  },
  {
   "cell_type": "markdown",
   "id": "23f2fa02",
   "metadata": {},
   "source": [
    "The acceptance-rejection method generates samples from a target distribution, by first generating candidates from a more accessible distribution and then rejecting a random subset of the generated candidates. The rejection mechanism is designed so that the accepted samples are indeed distributed according to the target distribution. The method is not restricted to univariate distributions.\n",
    "\n",
    "Assume, that we wish to generate samples from a density $f$ defined on some set $X$. This could be a subset of the real line, or a more general set. Let $g$ be a density on $X$ from which we know how to sample from and with the property that:\n",
    "\n",
    "$f(x)\\leq cg(x)$, $\\forall x\\in X$ for some constant $c$. \n",
    "\n",
    "According to the acceptance-rejection method, we generate a candidate sample $X$ from $g$ and accept it with probability $P=\\frac{f(X)}{cg(X)}$. This can be implemented by sampling $U\\sim Uniform(0,1)\\;\\text{and accepting}\\; X\\;\\text{if} \\;U\\leq\\frac{f(X)}{cg(X)}$.\n",
    "\n",
    "If X is rejected, a new candidate is sampled from $g$, and the acceptance test is applied again. The process repeats until the acceptance test is succesfull and there is no upper bound on the number of the samples drawn untill the acceptance test is passed.\n",
    "\n",
    "We can use the Acceptance-Rejection method to generate samples from the Standard Normal distribution using the Laplace distribution as the candidate.\n",
    "\n",
    "\n",
    "The Laplace density on $(-\\infty, \\infty)$ is $g(x) = \\frac{e^{-|x|}}{2}$ and the normal density is $f(x) = \\frac{e^{-\\frac{x^2}{2}}}{\\sqrt{2\\pi}}$. Their ratio is:\n",
    "\n",
    "$\\frac{f(x)}{g(x)} = \\frac{2}{\\pi e^{-\\frac{1}{2} x^2 + |x|}} \\leq \\frac{2e}{\\pi} \\approx 1.3155 \\equiv c$.\n",
    "\n",
    "A sample from the double exponential density can be generated as $X=-\\beta ln(U)$, where $U\\sim Uniform(0,1)$ to draw a standard exponential random variable, and then randomizing the sign. The rejection test $u > \\frac{f(x)}{cg(x)}$ can be implemented as:\n",
    "\n",
    "$u > \\exp\\left(-\\frac{1}{2}x^2 + |x| - \\frac{1}{2}\\right) = \\exp\\left(-\\frac{1}{2}(|x| - 1)^2\\right).$\n",
    "\n",
    "In light of the symmetry of both $f$ and $g$, it suffices to generate positive samples and determine the sign only if the sample is accepted. In this case, the absolute value is unnecessary in the rejection test. \n",
    "\n",
    "The combined steps to sample from the Standard Normal distribution using the Acceptance-Rejection method and the Laplace distribution as the candidate are:\n",
    "\n",
    "1. Generate $U_1$, $U_2$, $U_3$ from $\\text{Uniform}[0,1]$.\n",
    "2. $X =-\\log(U_1)$.\n",
    "3. If $U_2 > \\exp\\left(-0.5(X - 1)^2\\right)$, go to Step 1.\n",
    "4. If $U_3 \\leq 0.5$, $X=-X$.\n",
    "5. Return $X$."
   ]
  },
  {
   "cell_type": "code",
   "execution_count": 4,
   "id": "6e658d68",
   "metadata": {},
   "outputs": [
    {
     "name": "stdout",
     "output_type": "stream",
     "text": [
      "Computational Time for Acceptance-Rejection Method: 39.693546772003174\n"
     ]
    }
   ],
   "source": [
    "# Tick:\n",
    "t0 = time.time()\n",
    "\n",
    "for i in range(N):\n",
    "    while True:\n",
    "        U1 = np.random.uniform(0, 1, 1)\n",
    "        U2 = np.random.uniform(0, 1, 1)\n",
    "        U3 = np.random.uniform(0, 1, 1)\n",
    "        X = -log(U1)\n",
    "        \n",
    "        if U2 <= exp(-0.5 * ((X - 1) ** 2)):\n",
    "            if U3 <= 0.5:\n",
    "                X = -X\n",
    "                break\n",
    "\n",
    "# Tock:                \n",
    "t1 = time.time()\n",
    "accept_reject = t1 - t0\n",
    "print(\"Computational Time for Acceptance-Rejection Method:\", accept_reject)\n",
    "comp_efficiency.update({\"Acceptance-Rejection\": accept_reject})"
   ]
  },
  {
   "cell_type": "markdown",
   "id": "2dccbd5a",
   "metadata": {},
   "source": [
    "# Bray-Marsaglia Polar Method:"
   ]
  },
  {
   "cell_type": "markdown",
   "id": "b6980cdf",
   "metadata": {},
   "source": [
    "Marsaglia and Bray developed a modification of the Box-Muller method that reduces computing time by avoiding evaluation of the sine and cosine functions. The Marsaglia-Bray method instead uses Acceptance-Rejection to sample points uniformly in the unit disc and then transforms these points to normal variables.\n",
    "\n",
    "The transformation $U_i =2U_{i-1}$, $i = 1, 2$, makes $(U_1, U_2)$ uniformly distributed over the square $[-1, 1] \\times [-1, 1]$. Accepting only those pairs for which $X = U_1^2 + U_2^2\\leq1$ produces points uniformly distributed over the disc of radius $1$ centered at the origin. Conditional on acceptance, $X\\sim Uniform(0,1)$. Dividing each accepted $(U_1, U_2)$ by $\\sqrt{X}$ projects it from the unit disc to the unit circle, on which it is uniformly distributed. Moreover, $\\left(\\frac{U_1}{\\sqrt{X}}, \\frac{U_2}{\\sqrt{X}}\\right)$ is independent of $X$ conditional on $X \\leq 1$.\n",
    "\n",
    "As is the case with most acceptance-rejection methods, there is no upper bound on the number of uniforms the Marsaglia-Bray algorithm may use to generate a single normal variable (or pair of variables). This renders the method inapplicable with quasi-Monte Carlo simulation."
   ]
  },
  {
   "cell_type": "code",
   "execution_count": 5,
   "id": "cc410e17",
   "metadata": {},
   "outputs": [
    {
     "name": "stdout",
     "output_type": "stream",
     "text": [
      "Computational Time for Bray-Marsaglia Polar Method: 11.406391143798828\n"
     ]
    }
   ],
   "source": [
    "# tick\n",
    "t0 = time.time()\n",
    "\n",
    "for i in range(int(N / 2)):\n",
    "    while True:\n",
    "        U1 = np.random.uniform(-1, 1, 1)\n",
    "        U2 = np.random.uniform(-1, 1, 1)\n",
    "        S = (U1 ** 2) + (U2 ** 2)\n",
    "        \n",
    "        if S <= 1:\n",
    "            X = U1 * sqrt(-2 * log(S) / S)\n",
    "            Y = U2 * sqrt(-2 * log(S) / S)\n",
    "            break\n",
    "\n",
    "# tock\n",
    "t1 = time.time()\n",
    "bray_marsaglia = t1 - t0\n",
    "print(\"Computational Time for Bray-Marsaglia Polar Method:\", bray_marsaglia)\n",
    "comp_efficiency.update({\"Bray-Marsaglia\": bray_marsaglia})\n"
   ]
  },
  {
   "cell_type": "markdown",
   "id": "b4989fde",
   "metadata": {},
   "source": [
    "# Beasley-Springer-Moro Inverse CDF Approximation:"
   ]
  },
  {
   "cell_type": "markdown",
   "id": "5483ee0e",
   "metadata": {},
   "source": [
    "Applying the inverse transform method to the normal distribution entails evaluation of $N^{-1}$, where $N$ denotes the CDF of the standard normal random variable. This cannot be computed exactly, but can be approximated with sufficient accuracy for applications. We discuss the Beasley-Springer-Moro method for evaluating $N^{-1}$.\n",
    "\n",
    "Because of the symmetry of the normal distribution, $N^{-1}(1 - u) = -N^{-1}(u)$, $0 < u < 1$; it therefore suffices to approximate $N^{-1}$ on the interval $[0.5, 1)$ (or the interval $(0, 0.5]$) and then to use the symmetry property to extend the approximation to the rest of the unit interval. Beasley and Springer provide a rational approximation:\n",
    "\n",
    "\n",
    "$N^{-1}(u) \\approx \\frac{3}{\\sqrt{\\pi}}\\sum_{n=0}^{3} a_n(u - \\frac{1}{2})^{2n+1} \\left(1 + \\sum_{n=0}^{3} b_n(u - \\frac{1}{2})^{2n}\\right), \\quad \\text{for } 0.5 \\leq u \\leq 0.92 $\n",
    "\n",
    "with constants $a_n$ and $b_n$ given in the code. For $u > 0.92$ they use a rational function of $\\log(1 - u)$. Moro reports greater accuracy in the tails by replacing the second part of the Beasley-Springer approximation with a Chebyshev approximation:\n",
    "\n",
    "$N^{-1}(u) \\approx g(u) = \\sum_{n=0}^{7} c_n\\left[\\log(-\\log(1 - u))\\right]^n, \\quad \\text{for } 0.92 \\leq u < 1$\n",
    "\n",
    "with constants $c_n$ again given in the code below. Using the symmetry rule, this gives:\n",
    "\n",
    "$N^{-1}(u) \\approx -g(1 - u), \\quad 0 < u \\leq 0.08$\n",
    "\n",
    "With this modification, Moro finds a maximum absolute error of $3 \\times 10^{-9}$ out to seven standard deviations (i.e., over the range $N(-7) \\leq u \\leq N(7)$). \n",
    "\n",
    "The Beasley-Springer-Moro Algorithm for the Normal Inverse CDF approximation is outlined in the below code:\n",
    "\n",
    "* Input: $U\\sim Uniform(0,1)$ and Moro constants.\n",
    "* Output: Approximate $N^{-1}$, inverse CDF of the Normal Distribution."
   ]
  },
  {
   "cell_type": "code",
   "execution_count": 6,
   "id": "587e033b",
   "metadata": {},
   "outputs": [
    {
     "name": "stdout",
     "output_type": "stream",
     "text": [
      "Computational Time for Beasley-Springer-Moro Method: 3.872880220413208\n"
     ]
    }
   ],
   "source": [
    "# Beasley-Springer-Moro constants:\n",
    "a0 = 2.50662823884\n",
    "a1 = -18.61500062529\n",
    "a2 = 41.39119773534\n",
    "a3 = -25.44106049637\n",
    "b0 = -8.47351093090\n",
    "b1 = 23.08336743743\n",
    "b2 = -21.06224101826\n",
    "b3 = 3.13082909833\n",
    "c0 = 0.3374754822726147\n",
    "c1 = 0.9761690190917186\n",
    "c2 = 0.1607979714918209\n",
    "c3 = 0.0276438810333863\n",
    "c4 = 0.0038405729373609\n",
    "c5 = 0.0003951896511919\n",
    "c6 = 0.0000321767881768\n",
    "c7 = 0.0000002888167364\n",
    "c8 = 0.0000003960315187\n",
    "\n",
    "# Tick:\n",
    "t0 = time.time()\n",
    "\n",
    "for i in range(N):\n",
    "    U = np.random.uniform(0, 1)\n",
    "    Y = U - 0.5\n",
    "    \n",
    "    if abs(Y) < 0.42:\n",
    "        r = Y * Y\n",
    "        X = Y * (a0 + r * (a1 + r * (a2 + r * a3))) / (1 + r * (b0 + r * (b1 + r * (b2 + r * b3))))\n",
    "    else:\n",
    "        r = U\n",
    "        if Y > 0:\n",
    "            r = 1 - U\n",
    "        r = log(-log(r))\n",
    "        X = c0 + r * (c1 + r * (c2 + r * (c3 + r * (c4 + r * (c5 + r * (c6 + r * (c7 + r * c8)))))))\n",
    "        X = X * (np.sign(Y))\n",
    "\n",
    "# Tock:\n",
    "t1 = time.time()\n",
    "beasley_springer_moro = t1 - t0\n",
    "print(\"Computational Time for Beasley-Springer-Moro Method:\", beasley_springer_moro)\n",
    "comp_efficiency.update({\"Beasley-Springer-Moro\": beasley_springer_moro})\n"
   ]
  },
  {
   "cell_type": "code",
   "execution_count": 7,
   "id": "dd2d5301",
   "metadata": {},
   "outputs": [
    {
     "name": "stdout",
     "output_type": "stream",
     "text": [
      "The computational time for the Beasley-Springer-Moro method was: 3.87 seconds\n",
      "The computational time for the Box-Mueller method was: 6.13 seconds\n",
      "The computational time for the Bray-Marsaglia method was: 11.41 seconds\n",
      "The computational time for the Acceptance-Rejection method was: 39.69 seconds\n"
     ]
    }
   ],
   "source": [
    "# Sort the dictionary by values:\n",
    "comp_efficiency_sorted = dict(sorted(comp_efficiency.items(), key=lambda x: x[1]))\n",
    "\n",
    "for key, value in comp_efficiency_sorted.items():\n",
    "    print(f\"The computational time for the {key} method was: {round(value, 2)} seconds\")\n"
   ]
  },
  {
   "cell_type": "code",
   "execution_count": 12,
   "id": "fb2c3275",
   "metadata": {},
   "outputs": [
    {
     "data": {
      "text/html": [
       "<div>\n",
       "<style scoped>\n",
       "    .dataframe tbody tr th:only-of-type {\n",
       "        vertical-align: middle;\n",
       "    }\n",
       "\n",
       "    .dataframe tbody tr th {\n",
       "        vertical-align: top;\n",
       "    }\n",
       "\n",
       "    .dataframe thead th {\n",
       "        text-align: right;\n",
       "    }\n",
       "</style>\n",
       "<table border=\"1\" class=\"dataframe\">\n",
       "  <thead>\n",
       "    <tr style=\"text-align: right;\">\n",
       "      <th></th>\n",
       "      <th>Time</th>\n",
       "    </tr>\n",
       "  </thead>\n",
       "  <tbody>\n",
       "    <tr>\n",
       "      <th>Beasley-Springer-Moro</th>\n",
       "      <td>3.87</td>\n",
       "    </tr>\n",
       "    <tr>\n",
       "      <th>Box-Mueller</th>\n",
       "      <td>6.13</td>\n",
       "    </tr>\n",
       "    <tr>\n",
       "      <th>Bray-Marsaglia</th>\n",
       "      <td>11.41</td>\n",
       "    </tr>\n",
       "    <tr>\n",
       "      <th>Acceptance-Rejection</th>\n",
       "      <td>39.69</td>\n",
       "    </tr>\n",
       "  </tbody>\n",
       "</table>\n",
       "</div>"
      ],
      "text/plain": [
       "                        Time\n",
       "Beasley-Springer-Moro   3.87\n",
       "Box-Mueller             6.13\n",
       "Bray-Marsaglia         11.41\n",
       "Acceptance-Rejection   39.69"
      ]
     },
     "execution_count": 12,
     "metadata": {},
     "output_type": "execute_result"
    }
   ],
   "source": [
    "#Dataframe from dict:\n",
    "df = pd.DataFrame.from_dict(comp_efficiency_sorted, orient=\"index\", columns=[\"Time\"]).round(2)\n",
    "df"
   ]
  },
  {
   "cell_type": "code",
   "execution_count": 13,
   "id": "40d10f3e",
   "metadata": {},
   "outputs": [
    {
     "data": {
      "image/png": "[encoded data removed]",
      "text/plain": [
       "<Figure size 576x504 with 1 Axes>"
      ]
     },
     "metadata": {
      "needs_background": "light"
     },
     "output_type": "display_data"
    }
   ],
   "source": [
    "df.plot(kind=\"bar\", figsize=(8,7), rot=30)\n",
    "plt.legend(frameon=False)\n",
    "plt.title(\"Computational Time\")\n",
    "plt.ylabel(\"Seconds\")\n",
    "plt.show()"
   ]
  },
  {
   "cell_type": "markdown",
   "id": "840e4702",
   "metadata": {},
   "source": [
    "Evidently, the inverse CDF approximation method of Beasley-Springer-Moro constitutes the most efficient algorithm to sample from the Normal distribution in terms of computational time. This is because it does not involve the evaluation of trigonometric functions and avoids many nested loops. The Box-Mueller algorithm is the second most efficient in computational time."
   ]
  }
 ],
 "metadata": {
  "kernelspec": {
   "display_name": "Python 3 (ipykernel)",
   "language": "python",
   "name": "python3"
  },
  "language_info": {
   "codemirror_mode": {
    "name": "ipython",
    "version": 3
   },
   "file_extension": ".py",
   "mimetype": "text/x-python",
   "name": "python",
   "nbconvert_exporter": "python",
   "pygments_lexer": "ipython3",
   "version": "3.9.5"
  }
 },
 "nbformat": 4,
 "nbformat_minor": 5
}
