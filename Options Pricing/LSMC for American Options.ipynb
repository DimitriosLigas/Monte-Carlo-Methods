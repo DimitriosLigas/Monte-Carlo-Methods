{
 "cells": [
  {
   "cell_type": "markdown",
   "id": "56644555",
   "metadata": {},
   "source": [
    "# American Options"
   ]
  },
  {
   "cell_type": "markdown",
   "id": "6625cc14",
   "metadata": {},
   "source": [
    "For options that can be hedged perfectly and dynamically during their life using cash and units of the underlying asset, we can use risk-neutral pricing to derive the arbitrage-free (fair) value as the discounted expectation of the final payoff under a risk-neutral probability measure $\\mathbb{Q}$:\n",
    "\n",
    "$$V_0=e^{-rT}\\mathbb{E}^\\mathbb{Q}\\left[V_{T}|\\mathcal{F_0}\\right]$$\n",
    "\n",
    "If this expectation does not have a closed-form solution, we can approximate it using Monte-Carlo methods. <br>American options however, are path-dependent options that cannot be perfectly hedged dynamically during their life (Sub-martingales). The early exercise feature of American options makes the hedging & pricing problem more complicated. For path-dependent options we cannot apply risk-neutral pricing under the measure $\\mathbb{Q}$. In this case, the application of Monte-Carlo methods is not obvious."
   ]
  },
  {
   "cell_type": "markdown",
   "id": "818880c6",
   "metadata": {},
   "source": [
    "## American Options Pricing with Dynamic Programming Design"
   ]
  },
  {
   "cell_type": "markdown",
   "id": "59edef83",
   "metadata": {},
   "source": [
    "Let $V\\left(i, S_i\\right)$ denote the value (price) of the American option at the time node $i$ given that the underlying spot price is $S_i$ at that time node. Also, let $h(s)=f(s|S_i=s)$ denote the **Intrinsic Value** (Early Exercise value) of the option at the time node $i$, i.e. the payoff from the immediate exercise. \n",
    "\n",
    "Define, $$CV\\left(i, s\\right)=e^{-r\\Delta t}\\mathbb{E}^{\\mathbb{Q}}\\left[V\\left(i+1, S_{i+1}\\right)|S_i=s\\right]\\;,$$ \n",
    "\n",
    "as the **Continuation Value** at the time node $i$, i.e., the value from holding the option and not exercising.<br>\n",
    "\n",
    "Then, if we fix the set of all the possible exercise dates $\\{0<t_1<t_2<...<t_i<...<t_n=T\\},$ we could use a **Dynamic Programming Backward Recurion** approach:\n",
    "\n",
    "$$V\\left(i, s\\right)=max\\left[h(s), CV\\left(i, s\\right)\\right]\\;,\\text{ for }i=n-1:0,\\;\\text{ and boundary condition }V\\left( n,s\\right)=h(s)$$\n",
    "\n",
    "to recover the option value at previous nodes. Essentially, we are saying that the value of the \"game\" at the time node $i$ given $S_i=s$, is the **maximum** between **stopping the game and receiving the immediate payoff** and **the expected value of playing another round of the game**.\n",
    "\n",
    "We can then define an optimal stopping time, $\\tau^*=\\inf\\{t_i: V(i, S_i)=h(S_i)\\}$\n",
    "\n",
    "For example, at the immediate time node before expiry, we would have,\n",
    "\n",
    "$$V(n-1, s)=max\\left[h(s), e^{-r \\Delta t}\\mathbb{E}\\left[V(n,S_n)|S_{n-1}=s\\right]\\right]$$\n",
    "\n",
    "The main difficulty (as always) in the dynamic programming pricing scheme is to **estimate the conditional expectation in the continuation value**:\n",
    "\n",
    "$$\\mathbb{E}\\left[V\\left(i+1, S_{i+1}\\right)|S_i=s\\right]$$\n",
    "\n"
   ]
  },
  {
   "cell_type": "markdown",
   "id": "b8b6b997",
   "metadata": {},
   "source": [
    "## CRR Binomial Tree for approximating the Conditional Expectation"
   ]
  },
  {
   "cell_type": "markdown",
   "id": "c0c41a9f",
   "metadata": {},
   "source": [
    "We can use the CRR Binomial Tree to compute the conditional expectation $\\mathbb{E}\\left[V\\left(i+1, S_{i+1}\\right)|S_i=s\\right]$ at each time node $i=n-1:0$ and then price the American options using the dynamic programming backward recursion described above. \n",
    "\n",
    "In the binomial tree framework, at each time node $i$, the underlying asset price can increase by $(u-1)$% or decrease by $(1-d)$%, where $u=e^{\\sigma \\Delta t}$ and $d=\\frac{1}{u}$. The size of each time step is $\\Delta t$ and we have a total of $n=\\frac{T}{\\Delta T}$ time steps and thus n+1 time nodes.\n",
    "\n",
    "Now, recall that under the risk-neutral probability measure $\\mathbb{Q}$ the discounted asset price is a $\\mathbb{Q}$-Martingale:\n",
    "\n",
    "$\\mathbb{E}^\\mathbb{Q}\\left[\\overline{S_{i+1}}|\\mathcal{F_i}\\right]=\\overline{S_i}\\implies S_ie^{-r \\Delta t}=\\mathbb{E}^\\mathbb{Q}\\left[e^{-r(i+1) \\Delta t}S_{i+1}|\\mathcal{F_i}\\right] \\implies S_i=e^{-r \\Delta t } \\mathbb{E}^\\mathbb{Q}\\left[S_{i+1}|\\mathcal{F_i}\\right]$ from which we can easily extract the risk-neutral probabilities as:\n",
    "\n",
    "$S_i=e^{-r \\Delta t } \\left[qS_iu+(1-q)S_id\\right] \\implies q=\\frac{e^{r \\Delta t}-d}{u-d}\\;\\text{with }u=e^{\\sigma\\sqrt{\\Delta t}}\\text{ and }d=\\frac{1}{u}$.\n",
    "\n",
    "The above constitutes the CRR binomial tree parametrization and is in fact related to a Monte Carlo method for options pricing with underlying asset SDE under measure $\\mathbb{Q}$: $\\frac{dS_t}{S_t}=(r-q)dt+\\sigma dW_t$ and discrete simulation scheme: \n",
    "$$S_{i+1}= \\begin{cases}S_iu,\\; q\\\\S_id,\\;(1-q)\\end{cases}\\;,$$ from which it easy to check that $\\mathbb{E}^\\mathbb{Q}\\left[S_{i+1}|\\mathcal{F_i}\\right]=S_ie^{r \\Delta t }$. As the number of the time steps $n$ is increased, the CRR binomial price will converge to the continuous-time price. Then, it follows that the conditional expectation is given as: \n",
    "\n",
    "$$\\mathbb{E}^{\\mathbb{Q}}\\left[V\\left(i+1, S_{i+1}\\right)|S_i=s\\right]=qV\\left(i+1, su\\right)+(1-q)V\\left(i+1, sd\\right)$$\n",
    "\n",
    "Then, under the CRR binomial tree parametrization, we can use the dynamic programmng approach and recover the American option's price at all time nodes using the backwards recursion: $$V(i, s) = \\max \\left[ h(s),\\;e^{-r\\Delta t} \\left[ qV(i+1, su) + (1-q)V(i+1, sd) \\right] \\right]\\text{ for }i=(n-1):0$$ \n",
    "\n",
    "and boundary condition (at expiry) $V(n,s)=h(s)$\n"
   ]
  },
  {
   "cell_type": "code",
   "execution_count": 2,
   "id": "510b86c7",
   "metadata": {},
   "outputs": [],
   "source": [
    "import numpy as np\n",
    "import pandas as pd\n",
    "import matplotlib.pyplot as plt\n",
    "import seaborn as sns\n",
    "from math import *"
   ]
  },
  {
   "cell_type": "markdown",
   "id": "83577807",
   "metadata": {},
   "source": [
    "# CRR Binomial Tree-based pricing methods"
   ]
  },
  {
   "cell_type": "markdown",
   "id": "0c04c85e",
   "metadata": {},
   "source": [
    "### Routine for populating the CRR Binomial Tree with underlying prices"
   ]
  },
  {
   "cell_type": "code",
   "execution_count": 36,
   "id": "bb271684",
   "metadata": {},
   "outputs": [],
   "source": [
    "\n",
    "def crr_binomial_tree(S0, T, dt, r, q, sigma):\n",
    "    \n",
    "    \"\"\" Plain routine to fill the CRR Binomial Tree \"\"\"\n",
    "    \n",
    "    # CRR Parametrization\n",
    "    n = int(T / dt)\n",
    "    u = exp(sigma * sqrt(dt))\n",
    "    d = 1 / u\n",
    "    \n",
    "    # Initialize the vector of the underlying asset price\n",
    "    S = np.zeros((n + 1, n + 1))\n",
    "    S[0, 0] = S0\n",
    "    \n",
    "    # Loop through the time nodes from the 2nd to the last - index j \n",
    "    for j in range(1, S.shape[0]):\n",
    "        \n",
    "        # Fill the asset values at the point nodes of the given time node - index i\n",
    "         for i in range(j + 1):\n",
    "                \n",
    "            \"\"\"\n",
    "            At the time node j, index i counts the downward moves and so (j - i) counts the upward moves,\n",
    "            since we can have at most j moves in j steps.\n",
    "            \"\"\"   \n",
    "            \n",
    "            S[i, j] = S0 * (u ** (j - i)) * (d ** i) \n",
    "   \n",
    "    return S\n"
   ]
  },
  {
   "cell_type": "markdown",
   "id": "68fb84d8",
   "metadata": {},
   "source": [
    "###  Vectorized Version"
   ]
  },
  {
   "cell_type": "code",
   "execution_count": 4,
   "id": "ce07684a",
   "metadata": {},
   "outputs": [],
   "source": [
    "\n",
    "def crr_vectorized_binomial_tree(S0, T, dt, r, q, sigma):\n",
    "    \n",
    "    \"\"\" Efficient vectorized routine to compute the CRR Binomial Tree \"\"\"\n",
    "    \n",
    "    # CRR Parametrization\n",
    "    n = int(T / dt)\n",
    "    u = exp(sigma * sqrt(dt))\n",
    "    d = 1 / u\n",
    "    \n",
    "    # Initialize the vector of the underlying asset price\n",
    "    S =np.zeros((n + 1, n + 1))\n",
    "    S[0, 0] = S0  \n",
    "    \n",
    "    # Loop through the time nodes\n",
    "    for j in range(1, S.shape[0]):\n",
    "        \n",
    "        \"\"\" \n",
    "        At each time node j, we shift all the points of time node (j - 1) up by a factor of u. (The non-zero elements)\n",
    "        Then we shift the last point of the time node (j - 1) down by a factor of d.\n",
    "        \n",
    "        * We do not use [:, j - 1], [: -1, j - 1] or [-1, j - 1] indexing because it is a lattice and includes \"0\" elements.\n",
    "        \n",
    "        \"\"\"\n",
    "        \n",
    "        # Shift all the non-zero points of the previous node up by a factor of u\n",
    "        S[: j, j] = u * S[: j, j - 1]\n",
    "    \n",
    "        # Shift the last non-zero point of the previous time node down by a factor of d\n",
    "        S[j, j] = d * S[j - 1, j - 1]\n",
    "        \n",
    "    return S"
   ]
  },
  {
   "cell_type": "markdown",
   "id": "87826a35",
   "metadata": {},
   "source": [
    "### Routine for Dynamic Programming Options Pricing (Vectorized)"
   ]
  },
  {
   "cell_type": "code",
   "execution_count": 5,
   "id": "a2fc495f",
   "metadata": {},
   "outputs": [],
   "source": [
    "\n",
    "def american_option_dynamic_prog(S, K, T, dt, r, q, sigma, flag):\n",
    "\n",
    "    # Initial CRR parametrization\n",
    "    u = exp(sigma * sqrt(dt))\n",
    "    d = 1 / u\n",
    "    disc = exp(-r * dt)\n",
    "    \n",
    "    # Risk-neutral probabilities\n",
    "    p = (exp((r - q) * dt) - d) / (u - d)\n",
    "    \n",
    "    \n",
    "    # Initialize the vector of the option prices\n",
    "    V = np.zeros(S.shape)\n",
    "    \n",
    "    \"\"\" If flag \"Call\", price an American Call \"\"\"\n",
    "    \n",
    "    if flag == \"c\":\n",
    "\n",
    "        # Boundary Condition at the Maturity\n",
    "        V[: , -1] = np.maximum(S[:, -1] - K, 0)\n",
    "        \n",
    "        \"\"\"Dynamic programming backward recursion to recover the option values:\n",
    "               \n",
    "               Work backwards for j = n : 1 and recover the option values at each node as:\n",
    "               \n",
    "               V(j - 1, s) = max[EE(s), CV(j - 1, s)] ,\n",
    "               \n",
    "               where CV(j - 1, s) = disc *p * (V(j, s*u) +(1 - p) * V(j, s*d))\n",
    "               \n",
    "        \"\"\"\n",
    "        \n",
    "        for j in range(V.shape[0] - 1, 0, -1):  \n",
    "            \n",
    "            \"\"\"\n",
    "            Continuation Value at time node (j - 1) using vectorized calculation:\n",
    "            \n",
    "            Multiply the first (j - 1) points with q and the (1: j) points by (1-q) of time node j, and sum them.\n",
    "            Assign the result to the continuation values of node (j-1).\n",
    "            \n",
    "            \"\"\"\n",
    "            # Vectorized continuation value at time node (j - 1)\n",
    "            V[: j, j - 1] = disc * (p * V[: j, j] + (1 - p) * V[1: j + 1 : , j])\n",
    "\n",
    "            # Early-Exercise value at time node (j - 1)\n",
    "            EE = np.maximum(S[: , j - 1] - K, 0)\n",
    "\n",
    "            # Find the points of time node (j - 1) where it is optimal to exercise early\n",
    "            ind = EE > V[: , j - 1]\n",
    "            \n",
    "            # Assign to these points the Early-Exercise value\n",
    "            V[ind, j - 1] = EE[ind]\n",
    "    \n",
    "    \n",
    "        \"\"\" If flag \"Put\", price an American Put \"\"\"\n",
    "    \n",
    "    else: \n",
    "        \n",
    "        \"\"\"\n",
    "        Exactly the same code as above with adjusted boundary condition and early exercise value to a put\n",
    "        \"\"\"\n",
    "        \n",
    "        # Boundary Condition\n",
    "        V[: , -1] = np.maximum(K - S[:, -1], 0)\n",
    "        \n",
    "        # Dynamic programming backward recursion\n",
    "        for j in range(V.shape[0] - 1, 0, -1):\n",
    "\n",
    "            # Continuation Value\n",
    "            V[: j, j - 1] = disc * (p * V[: j, j] + (1 - p) * V[1: j + 1 : , j])\n",
    "            \n",
    "            # Early-Exercise Value\n",
    "            EE = K - S[: , j - 1]\n",
    "            \n",
    "            # Find the points of time node (j - 1) where it is optimal to exercise early\n",
    "            ind = EE > V[: , j - 1]\n",
    "            \n",
    "            # Assign to these points the Early-Exercise value\n",
    "            V[ind, j - 1] = EE[ind]\n",
    "        \n",
    "    \n",
    "    return V\n"
   ]
  },
  {
   "cell_type": "markdown",
   "id": "5a1d57fc",
   "metadata": {},
   "source": [
    "### CRR Binomial Tree Price"
   ]
  },
  {
   "cell_type": "code",
   "execution_count": 59,
   "id": "1a74e160",
   "metadata": {},
   "outputs": [
    {
     "name": "stdout",
     "output_type": "stream",
     "text": [
      "\n",
      "The CRR Binomial Price of the put is: 30.008\n"
     ]
    }
   ],
   "source": [
    "\n",
    "# Initial CRR Parameters\n",
    "\n",
    "T = 1\n",
    "dt = 1 / 365\n",
    "S0 = 70\n",
    "sigma = 0.3\n",
    "q = 0\n",
    "r = 0.05\n",
    "disc = exp(-r * dt)\n",
    "K = 100\n",
    "\n",
    "# Binomial prices\n",
    "S = crr_vectorized_binomial_tree(S0, T, dt, r, q, sigma)\n",
    "\n",
    "# American option price\n",
    "V = american_option_dynamic_prog(S, K, T, dt, r, q, sigma, flag=\"p\").round(4)\n",
    "print(f\"\\nThe CRR Binomial Price of the put is: {V[0, 0]:.3f}\")\n"
   ]
  },
  {
   "cell_type": "markdown",
   "id": "a3afd1c0",
   "metadata": {},
   "source": [
    "### Estimate the Early-Exercise Region from the CRR Bionomial tree"
   ]
  },
  {
   "cell_type": "code",
   "execution_count": 60,
   "id": "5b883175",
   "metadata": {},
   "outputs": [],
   "source": [
    "\n",
    "u = np.exp(sigma * np.sqrt(dt))\n",
    "d = 1 / u\n",
    "p = (np.exp(dt * (r - q)) - d) / (u - d)\n",
    "n = round( T / dt)\n",
    "\n",
    "ee_region_bin = np.zeros(n)\n",
    "\n",
    "# Estimate the Early Exercise region:\n",
    "for i in range(n - 1, -1, -1):\n",
    "    \n",
    "    for j in range(i + 1):\n",
    "        \n",
    "        exercise = max(0, K - S[j, i])\n",
    "        \n",
    "        continue_val = disc * (p * V[j, i + 1] + (1 - p) * V[j + 1, i + 1])\n",
    "        \n",
    "        if exercise > continue_val:\n",
    "            \n",
    "            ee_region_bin[i] = S[j, i]\n",
    "            break\n",
    "\n",
    "ee_region_bin[0] = S0\n"
   ]
  },
  {
   "cell_type": "markdown",
   "id": "88614f00",
   "metadata": {},
   "source": [
    "# Least Squares Monte-Carlo"
   ]
  },
  {
   "cell_type": "markdown",
   "id": "2b122d18",
   "metadata": {},
   "source": [
    "## LSMC with Raw Polynomial Basis Design $d=6$"
   ]
  },
  {
   "cell_type": "code",
   "execution_count": 9,
   "id": "e7027c6f",
   "metadata": {},
   "outputs": [],
   "source": [
    "\n",
    "# LSMC Function for American Put with Raw Polynomial Basis expansion\n",
    "def LSMC_put_func(S, K, D):\n",
    "    n = S.shape[1]\n",
    "    payoff = np.maximum(K - S, 0)\n",
    "    V = np.zeros_like(S)\n",
    "    V[:, -1] = payoff[:, -1]  # Terminal Value\n",
    "\n",
    "    # Backward Regression\n",
    "    \n",
    "    for j in range(n - 1, 0, -1):\n",
    "        V[:, j - 1] = V[:, j] * D\n",
    "        ind = payoff[:, j - 1] > 0  # ITM Samples, we consider only those\n",
    "        # LSMC Regression for ITM Samples\n",
    "        # Design Matrix with 6th Degree Polynomial\n",
    "        # Evaluated at t-1\n",
    "        psi = np.vander(S[ind, j - 1], 7, increasing=True)\n",
    "        # Backward Regression with pseudo-inverse\n",
    "        b = np.linalg.pinv(psi) @ V[ind, j]\n",
    "        # Continuation Value at time t-1\n",
    "        CV = D * psi @ b\n",
    "        V[ind, j - 1] = np.maximum(CV, payoff[ind, j - 1])\n",
    "    \n",
    "    \n",
    "    LSMC_Prc = np.mean(V[:, 0])\n",
    "    return LSMC_Prc, V, S\n"
   ]
  },
  {
   "cell_type": "markdown",
   "id": "f5b0ab47",
   "metadata": {},
   "source": [
    "### Price the American Put"
   ]
  },
  {
   "cell_type": "code",
   "execution_count": 53,
   "id": "50703bcf",
   "metadata": {},
   "outputs": [
    {
     "name": "stdout",
     "output_type": "stream",
     "text": [
      "\n",
      "The LSMC Put Price is : 30.430\n"
     ]
    }
   ],
   "source": [
    "\n",
    "# Parameters\n",
    "S0 = 70\n",
    "K = 100\n",
    "T = 2\n",
    "r = 0.05\n",
    "q = 0.0\n",
    "sigma = 0.3\n",
    "n = 365  # number of time steps\n",
    "dt = T / n\n",
    "N = 100000  # number of simulation paths\n",
    "\n",
    "D = np.exp(-r * dt)\n",
    "\n",
    "# Simulate the underlying asset paths via GBM\n",
    "S = np.zeros((N, n))\n",
    "S[:, 0] = S0\n",
    "\n",
    "for j in range(1, n):\n",
    "    S[:, j] = S[:, j - 1] * np.exp((r - q - 0.5 * sigma ** 2) * dt +\n",
    "                                   sigma * np.random.randn(N) * np.sqrt(dt))\n",
    "\n",
    "# Compute the Put LSMC Price\n",
    "LSMC_Prc, V, S = LSMC_put_func(S, K, D)\n",
    "\n",
    "print(f\"\\nThe LSMC Put Price is : {LSMC_Prc:.3f}\")\n"
   ]
  },
  {
   "cell_type": "markdown",
   "id": "366c85d5",
   "metadata": {},
   "source": [
    "## LSMC with Orthogonal Basis expansion via Hermite Polynomials"
   ]
  },
  {
   "cell_type": "code",
   "execution_count": 45,
   "id": "b6c6c21d",
   "metadata": {},
   "outputs": [],
   "source": [
    "\n",
    "# Function to compute the coefficients of the phycisists' Hermite polynomials\n",
    "\n",
    "def hermipol(d):\n",
    "    \n",
    "    import scipy\n",
    "    \n",
    "    h = np.zeros((d + 1, d + 1))\n",
    "    \n",
    "    for i in range(d + 1):\n",
    "    \n",
    "        h[i, -(i + 1):] = np.array(scipy.special.hermite(i))     \n",
    "    \n",
    "    h = np.where(abs(h )< 1e-8, 0, h )\n",
    "    \n",
    "    return h\n"
   ]
  },
  {
   "cell_type": "code",
   "execution_count": 46,
   "id": "d6b41bb5",
   "metadata": {},
   "outputs": [],
   "source": [
    "\n",
    "# LSMC Routine with Orthogonal Basis Expansion via Hermite Polynomials\n",
    "\n",
    "def LSMC_put_func_herm(S, K, D, d):\n",
    "    \n",
    "    \n",
    "    n = S.shape[1]\n",
    "    payoff = np.maximum(K - S, 0)\n",
    "    V = np.zeros_like(S)\n",
    "    V[:, -1] = payoff[:, -1]  # Terminal Value\n",
    "\n",
    "    # Backward Regression\n",
    "    for j in range(n - 1, 0, -1):\n",
    "        \n",
    "        V[:, j - 1] = V[:, j] * D\n",
    "        ind = payoff[:, j - 1] > 0  # ITM Samples, we consider only those\n",
    "        # LSMC Regression for ITM Samples\n",
    "        # Design Matrix with 6th Degree Polynomial\n",
    "        # Evaluated at t-1\n",
    "        \n",
    "        # Coefficient matrix of the Hermite Polynomials\n",
    "        p = hermipol(d)\n",
    "        \n",
    "        # Dimensions of the design matrix\n",
    "        psi = np.zeros((sum(ind), d + 1))\n",
    "        \n",
    "        for i in range(d + 1):\n",
    "            \n",
    "            psi[: , i] = np.polyval(p[i, :], np.log(S[ind , j - 1]));\n",
    "            \n",
    "        \n",
    "        # Backward Regression with pseudo-inverse\n",
    "        b = np.linalg.pinv(psi) @ V[ind, j]\n",
    "        # Continuation Value at time t-1\n",
    "        CV = D * psi @ b\n",
    "        V[ind, j - 1] = np.maximum(CV, payoff[ind, j - 1])\n",
    "\n",
    "    LSMC_Prc = np.mean(V[:, 0])\n",
    "    \n",
    "    return LSMC_Prc, S, V\n"
   ]
  },
  {
   "cell_type": "markdown",
   "id": "e31261b2",
   "metadata": {},
   "source": [
    "### Price the American Put"
   ]
  },
  {
   "cell_type": "code",
   "execution_count": 61,
   "id": "92b4635d",
   "metadata": {},
   "outputs": [
    {
     "name": "stdout",
     "output_type": "stream",
     "text": [
      "The LSMC Price with Hermite Polynomials:  30.025\n"
     ]
    }
   ],
   "source": [
    "\n",
    "\n",
    "# Parameters\n",
    "S0 = 70\n",
    "K = 100\n",
    "T = 1\n",
    "r = 0.05\n",
    "q = 0.0\n",
    "sigma = 0.3\n",
    "n = 365  # number of time steps\n",
    "dt = T / n\n",
    "N = 100000  # number of simulation paths\n",
    "D = np.exp(-r * dt)\n",
    "\n",
    "# Simulate the underlying asset paths via GBM\n",
    "S = np.zeros((N, n))\n",
    "S[:, 0] = S0\n",
    "\n",
    "for j in range(1, n):\n",
    "    S[:, j] = S[:, j - 1] * np.exp((r - q - 0.5 * sigma ** 2) * dt +\n",
    "                                   sigma * np.random.randn(N) * np.sqrt(dt))\n",
    "\n",
    "# Compute the LSMC Put price\n",
    "price, S, V = LSMC_put_func_herm(S, K, D, 8)\n",
    "\n",
    "print(f\"The LSMC Price with Hermite Polynomials: {price: .3f}\")\n"
   ]
  },
  {
   "cell_type": "markdown",
   "id": "37c43721",
   "metadata": {},
   "source": [
    "### Estimate the Early Exercise Region as a function of $t$"
   ]
  },
  {
   "cell_type": "code",
   "execution_count": 62,
   "id": "f7d02a1e",
   "metadata": {},
   "outputs": [],
   "source": [
    "\n",
    "# Extract the estimated Early-Exercise Region of the American Put\n",
    "ee_value_lsmc = np.zeros((S.shape[0], n));\n",
    "ee_region = np.zeros(n);\n",
    "\n",
    "\n",
    "for j in range(n - 1, 0, -1):\n",
    "    \n",
    "    ind = (np.maximum((K - S[: , j]), 0) == V[: , j]) & (S[: , j] < K)\n",
    "    ee_value_lsmc[ind, j] = S[ind, j];\n",
    "    ind2 = ee_value_lsmc[: , j] != 0;\n",
    "    temp = ee_value_lsmc[ind2, j];\n",
    "    \n",
    "    if len(temp) > 0:\n",
    "        ee_region[j] = np.quantile(temp, 0.95 + 0.05 * j / n);\n",
    "\n",
    "ee_region[0] = S0\n"
   ]
  },
  {
   "cell_type": "code",
   "execution_count": 63,
   "id": "50882752",
   "metadata": {},
   "outputs": [
    {
     "data": {
      "image/png": "[encoded data removed]",
      "text/plain": [
       "<Figure size 720x576 with 1 Axes>"
      ]
     },
     "metadata": {
      "needs_background": "light"
     },
     "output_type": "display_data"
    }
   ],
   "source": [
    "\n",
    "# Plot the Early exercise region \n",
    "x = np.linspace(0, T, n)\n",
    "\n",
    "# Fit a 5th degree polynomial to the estimated early exercise region\n",
    "poly_coeffs = np.polyfit(x,ee_region_bin, deg = 5)\n",
    "\n",
    "# Evaluate the polynomial values at the x points\n",
    "poly_fit = np.polyval(poly_coeffs, x)\n",
    "\n",
    "\n",
    "# Plot the estimated regions\n",
    "plt.figure(figsize=(10, 8))\n",
    "plt.plot(ee_region_bin, label =\"EE CRR Binomial Tree\")\n",
    "plt.plot(ee_region, marker=\"*\", linestyle = \" \", label = \"EE LSMC\")\n",
    "\n",
    "plt.plot(poly_fit, color = \"lightcoral\")\n",
    "plt.legend(frameon = False)\n",
    "plt.title(\"American Option EE Region\")\n",
    "plt.ylabel(\"Underlying Price $S_t$\")\n",
    "plt.xlabel(\"Time $t$\")\n",
    "plt.plot()\n",
    "plt.show()"
   ]
  }
 ],
 "metadata": {
  "kernelspec": {
   "display_name": "Python 3 (ipykernel)",
   "language": "python",
   "name": "python3"
  },
  "language_info": {
   "codemirror_mode": {
    "name": "ipython",
    "version": 3
   },
   "file_extension": ".py",
   "mimetype": "text/x-python",
   "name": "python",
   "nbconvert_exporter": "python",
   "pygments_lexer": "ipython3",
   "version": "3.9.5"
  }
 },
 "nbformat": 4,
 "nbformat_minor": 5
}
